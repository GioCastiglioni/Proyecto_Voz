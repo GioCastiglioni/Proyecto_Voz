{
 "cells": [
  {
   "cell_type": "code",
   "execution_count": 1,
   "id": "146f5fc5",
   "metadata": {},
   "outputs": [],
   "source": [
    "import scipy.io.wavfile as wavfile\n",
    "import numpy as np\n",
    "import os\n",
    "import h5py\n",
    "import pandas as pd\n",
    "from tqdm import tqdm\n",
    "from python_speech_features import mfcc"
   ]
  },
  {
   "cell_type": "code",
   "execution_count": 2,
   "id": "93f32a5d-7b73-4a95-8e96-2bf6de418e63",
   "metadata": {},
   "outputs": [],
   "source": [
    "audios = pd.read_csv('Audios.csv')"
   ]
  },
  {
   "cell_type": "code",
   "execution_count": 3,
   "id": "f034ac77-0f38-45f2-9c24-207ad2507f3b",
   "metadata": {},
   "outputs": [],
   "source": [
    "def mfcc_extraction(audio, sr):\n",
    "    winlen = (len(audio)//19)/sr\n",
    "    winstep = winlen\n",
    "    nfft = int(2 ** np.ceil(np.log2(sr * winlen)))\n",
    "    mfcc_out = mfcc(audio, sr, winlen=winlen, winstep=winstep, numcep=13, nfft=nfft)\n",
    "    return mfcc_out"
   ]
  },
  {
   "cell_type": "code",
   "execution_count": 5,
   "id": "9a76d437-12e7-4f6a-833d-f9ce59ccc914",
   "metadata": {},
   "outputs": [
    {
     "name": "stderr",
     "output_type": "stream",
     "text": [
      "100%|██████████████████████████████████████████████████████████████████████████████████████████████████████████████████████████████████████████████████████████████| 7435/7435 [01:03<00:00, 117.00it/s]\n"
     ]
    }
   ],
   "source": [
    "for name in tqdm(audios['name']):\n",
    "    filename=\"C:\\\\Users\\\\gcast\\\\OneDrive\\\\Documentos\\\\Universidad\\\\Voz\\\\Proyecto\\\\CREMA-D\\\\AudioWAV\\\\\"+name+'.wav'\n",
    "    sr, audio = wavfile.read(filename)\n",
    "    audio = audio[:len(audio) - len(audio)%19].astype(np.float32)\n",
    "    mfccs = mfcc_extraction(audio, sr)\n",
    "    with h5py.File(\"C:\\\\Users\\\\gcast\\\\OneDrive\\\\Documentos\\\\Universidad\\\\Voz\\\\Proyecto\\\\AudiosMFCC.h5\", 'a') as hf:\n",
    "        hf.create_dataset(name, data=mfccs.astype(np.float32))"
   ]
  },
  {
   "cell_type": "code",
   "execution_count": null,
   "id": "2170fa97-3702-4486-9110-4bb926b22ef8",
   "metadata": {},
   "outputs": [],
   "source": []
  },
  {
   "cell_type": "code",
   "execution_count": null,
   "id": "d679fdb3-2cc2-4927-9ca0-3b366bfcdf85",
   "metadata": {},
   "outputs": [],
   "source": []
  }
 ],
 "metadata": {
  "kernelspec": {
   "display_name": "Python 3 (ipykernel)",
   "language": "python",
   "name": "python3"
  },
  "language_info": {
   "codemirror_mode": {
    "name": "ipython",
    "version": 3
   },
   "file_extension": ".py",
   "mimetype": "text/x-python",
   "name": "python",
   "nbconvert_exporter": "python",
   "pygments_lexer": "ipython3",
   "version": "3.11.5"
  }
 },
 "nbformat": 4,
 "nbformat_minor": 5
}
